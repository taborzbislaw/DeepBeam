{
 "cells": [
  {
   "cell_type": "code",
   "execution_count": 1,
   "metadata": {},
   "outputs": [],
   "source": [
    "import numpy as np\n",
    "import matplotlib.pyplot as plt\n",
    "from scipy.interpolate import interpn\n",
    "import os\n",
    "import glob\n",
    "import random\n",
    "\n",
    "import config\n",
    "import utils\n"
   ]
  },
  {
   "cell_type": "code",
   "execution_count": 2,
   "metadata": {},
   "outputs": [
    {
     "name": "stderr",
     "output_type": "stream",
     "text": [
      "Using TensorFlow backend.\n"
     ]
    }
   ],
   "source": [
    "from keras.models import Model\n",
    "from keras.layers import BatchNormalization, Conv2D, Conv2DTranspose, MaxPooling2D, Dropout, UpSampling2D, Input, concatenate, Activation,LeakyReLU\n",
    "from keras import backend as K\n",
    "import tensorflow as tf\n",
    "from keras.callbacks import ModelCheckpoint\n",
    "from keras.optimizers import Adam, SGD\n"
   ]
  },
  {
   "cell_type": "code",
   "execution_count": 3,
   "metadata": {},
   "outputs": [
    {
     "name": "stdout",
     "output_type": "stream",
     "text": [
      "(3, 300, 6, 495) (300, 4)\n"
     ]
    }
   ],
   "source": [
    "# Read all simulated profiles for a regular grid of primary beam parameters, for fields 3x3, 10x10, and 30x30\n",
    "\n",
    "dataPoints = [(str(e),str(se),str(s),str(an)) for e in config.simulatedEnergies for se in config.simulatedEnergyDispersions for s in config.simulatedSourceSizes \n",
    "              for an in config.simulatedAngularDivergences]\n",
    "\n",
    "random.seed(config.SEED)\n",
    "random.shuffle(dataPoints)\n",
    "\n",
    "profiles = utils.readProfiles(config.profileDIR,dataPoints)\n",
    "\n",
    "profiles = np.asarray(profiles)\n",
    "goals = np.asarray(dataPoints,dtype=np.float)\n",
    "\n",
    "print(profiles.shape,goals.shape)"
   ]
  },
  {
   "cell_type": "code",
   "execution_count": 4,
   "metadata": {},
   "outputs": [
    {
     "name": "stdout",
     "output_type": "stream",
     "text": [
      "(300, 298, 1)\n",
      "(300, 163, 1)\n",
      "(300, 177, 1)\n",
      "(300, 297, 1)\n",
      "(300, 365, 1)\n",
      "(300, 395, 1)\n"
     ]
    }
   ],
   "source": [
    "#profiles.shape = (3, 300, 6, 495)\n",
    "#analyzedProfiles = [None,[0,3],[1,3]]\n",
    "\n",
    "inp1 = profiles[1,:,0,config.analyzedRanges[1][0][0]:config.analyzedRanges[1][0][1]]\n",
    "inp1 = np.reshape(inp1,inp1.shape + (1,))\n",
    "print(inp1.shape)\n",
    "inp2 = profiles[1,:,1,config.analyzedRanges[1][1][0]:config.analyzedRanges[1][1][1]]\n",
    "inp2 = np.reshape(inp2,inp2.shape + (1,))\n",
    "print(inp2.shape)\n",
    "inp3 = profiles[1,:,3,config.analyzedRanges[1][2][0]:config.analyzedRanges[1][2][1]]\n",
    "inp3 = np.reshape(inp3,inp3.shape + (1,))\n",
    "print(inp3.shape)\n",
    "inp4 = profiles[2,:,0,config.analyzedRanges[2][0][0]:config.analyzedRanges[2][0][1]]\n",
    "inp4 = np.reshape(inp4,inp4.shape + (1,))\n",
    "print(inp4.shape)\n",
    "inp5 = profiles[2,:,1,config.analyzedRanges[2][1][0]:config.analyzedRanges[2][1][1]]\n",
    "inp5 = np.reshape(inp5,inp5.shape + (1,))\n",
    "print(inp5.shape)\n",
    "inp6 = profiles[2,:,3,config.analyzedRanges[2][2][0]:config.analyzedRanges[2][2][1]]\n",
    "inp6 = np.reshape(inp6,inp6.shape + (1,))\n",
    "print(inp6.shape)"
   ]
  },
  {
   "cell_type": "code",
   "execution_count": 5,
   "metadata": {},
   "outputs": [
    {
     "name": "stdout",
     "output_type": "stream",
     "text": [
      "(298, 1)\n",
      "(163, 1)\n",
      "(177, 1)\n",
      "(297, 1)\n",
      "(365, 1)\n",
      "(395, 1)\n"
     ]
    }
   ],
   "source": [
    "from keras.layers import Conv1D,MaxPooling1D,Concatenate,Flatten,Dense\n",
    "\n",
    "def conv_block(inp,filters=16,kernel_size=3,strides = 1,kernel_initializer= 'glorot_uniform',padding='same',activation='relu'):\n",
    "    c = Conv1D(filters,kernel_size,kernel_initializer=kernel_initializer,padding=padding,activation=activation,strides = strides)(inp)\n",
    "    c = Conv1D(filters,kernel_size,kernel_initializer=kernel_initializer,padding=padding,activation=activation,strides = strides)(c)\n",
    "    c = MaxPooling1D(2)(c)\n",
    "    return c\n",
    "\n",
    "inputs = []\n",
    "outputs = []\n",
    "for nmod in range(len(config.allRanges)):\n",
    "    shape = (config.allRanges[nmod][1]-config.allRanges[nmod][0],1)\n",
    "    print(shape)\n",
    "    W = int(np.log(shape[0]/3)/np.log(2))\n",
    "    inp = Input(shape)\n",
    "    F = 16\n",
    "    x = inp\n",
    "    for w in range(W):\n",
    "        x = conv_block(x,filters = F)\n",
    "#        x = Conv1D(F,3,activation='relu',padding = 'same') (x)\n",
    "#        x = Conv1D(F,3,activation='relu',padding = 'same') (x)\n",
    "#        x = Conv1D(F,3,activation='relu',strides=2) (x)\n",
    "#        x = MaxPooling1D(2)(x)\n",
    "        F *= 2\n",
    "    out = Conv1D(1,1) (x)\n",
    "    inputs.append(inp)\n",
    "    outputs.append(out)\n",
    "\n",
    "c = Concatenate(axis=1)(outputs)\n",
    "c = Flatten()(c)\n",
    "c = Dense(100,activation='relu')(c)\n",
    "c = Dense(100,activation='relu')(c)\n",
    "out = Dense(4,activation=None)(c)\n",
    "\n",
    "model = Model(inputs = inputs,outputs=[out])\n",
    "#model.summary()"
   ]
  },
  {
   "cell_type": "code",
   "execution_count": 6,
   "metadata": {},
   "outputs": [],
   "source": [
    "model_filename = 'regresja3.h5'\n",
    "\n",
    "callback_checkpoint = ModelCheckpoint(\n",
    "    model_filename, \n",
    "    verbose=1, \n",
    "    monitor='val_loss', \n",
    "    save_best_only=True\n",
    ")\n",
    "\n",
    "model.compile(\n",
    "    optimizer=Adam(lr=0.0001), \n",
    "    loss = 'mse',\n",
    "    metrics=[tf.keras.metrics.MeanAbsoluteError()]\n",
    ")\n"
   ]
  },
  {
   "cell_type": "code",
   "execution_count": 11,
   "metadata": {},
   "outputs": [],
   "source": [
    "history = model.fit(\n",
    "    [inp1,inp2,inp3,inp4,inp5,inp6],goals,\n",
    "    steps_per_epoch=100,\n",
    "    epochs=300,\n",
    "    validation_split=0.2,\n",
    "    validation_steps = 10,\n",
    "    callbacks=[callback_checkpoint]\n",
    ")"
   ]
  },
  {
   "cell_type": "code",
   "execution_count": 7,
   "metadata": {},
   "outputs": [],
   "source": [
    "#Run if the trained model already exists\n",
    "\n",
    "model.load_weights('regresja3.h5')"
   ]
  },
  {
   "cell_type": "code",
   "execution_count": 8,
   "metadata": {},
   "outputs": [
    {
     "name": "stdout",
     "output_type": "stream",
     "text": [
      "(3, 25, 6, 495) (25, 4)\n"
     ]
    }
   ],
   "source": [
    "groundTruthFilename = config.testProfilesDIR + config.groundTruthFileName\n",
    "\n",
    "testGoals = open(groundTruthFilename)\n",
    "lines = testGoals.readlines()\n",
    "y_test = [l[:-1].split()[1:5] for l in lines[:-1]]\n",
    "fileNames = [l[:-1].split()[0] for l in lines[:-1]]\n",
    "testGoals.close()\n",
    "\n",
    "fields = ['fields','fields10','fields30']\n",
    "testProfiles3 = []\n",
    "testProfiles10 = []\n",
    "testProfiles30 = []\n",
    "\n",
    "for fileName in fileNames:\n",
    "    name = config.testProfilesDIR + fileName + '_' + fields[0] + '.npz'\n",
    "    file = np.load(name)\n",
    "    testProfiles3.append(file[file.files[1]])\n",
    "\n",
    "    name = config.testProfilesDIR + fileName + '_' + fields[1] + '.npz'\n",
    "    file = np.load(name)\n",
    "    testProfiles10.append(file[file.files[1]])\n",
    "\n",
    "    name = config.testProfilesDIR + fileName + '_' + fields[2] + '.npz'\n",
    "    file = np.load(name)\n",
    "    testProfiles30.append(file[file.files[1]])\n",
    "        \n",
    "\n",
    "testProfiles = []\n",
    "testProfiles.append(testProfiles3)\n",
    "testProfiles.append(testProfiles10)\n",
    "testProfiles.append(testProfiles30)\n",
    "\n",
    "testProfiles = np.asarray(testProfiles,dtype=np.float)\n",
    "y_test = np.asarray(y_test,dtype=np.float)\n",
    "\n",
    "print(testProfiles.shape,y_test.shape)"
   ]
  },
  {
   "cell_type": "code",
   "execution_count": 9,
   "metadata": {},
   "outputs": [
    {
     "name": "stdout",
     "output_type": "stream",
     "text": [
      "(25, 298, 1)\n",
      "(25, 163, 1)\n",
      "(25, 177, 1)\n",
      "(25, 297, 1)\n",
      "(25, 365, 1)\n",
      "(25, 395, 1)\n"
     ]
    }
   ],
   "source": [
    "testInp1 = testProfiles[1,:,0,config.analyzedRanges[1][0][0]:config.analyzedRanges[1][0][1]]\n",
    "testInp1 = np.reshape(testInp1,testInp1.shape + (1,))\n",
    "print(testInp1.shape)\n",
    "testInp2 = testProfiles[1,:,1,config.analyzedRanges[1][1][0]:config.analyzedRanges[1][1][1]]\n",
    "testInp2 = np.reshape(testInp2,testInp2.shape + (1,))\n",
    "print(testInp2.shape)\n",
    "testInp3 = testProfiles[1,:,3,config.analyzedRanges[1][2][0]:config.analyzedRanges[1][2][1]]\n",
    "testInp3 = np.reshape(testInp3,testInp3.shape + (1,))\n",
    "print(testInp3.shape)\n",
    "testInp4 = testProfiles[2,:,0,config.analyzedRanges[2][0][0]:config.analyzedRanges[2][0][1]]\n",
    "testInp4 = np.reshape(testInp4,testInp4.shape + (1,))\n",
    "print(testInp4.shape)\n",
    "testInp5 = testProfiles[2,:,1,config.analyzedRanges[2][1][0]:config.analyzedRanges[2][1][1]]\n",
    "testInp5 = np.reshape(testInp5,testInp5.shape + (1,))\n",
    "print(testInp5.shape)\n",
    "testInp6 = testProfiles[2,:,3,config.analyzedRanges[2][2][0]:config.analyzedRanges[2][2][1]]\n",
    "testInp6 = np.reshape(testInp6,testInp6.shape + (1,))\n",
    "print(testInp6.shape)"
   ]
  },
  {
   "cell_type": "code",
   "execution_count": 10,
   "metadata": {},
   "outputs": [
    {
     "name": "stdout",
     "output_type": "stream",
     "text": [
      "(25, 4)\n",
      "<class 'numpy.float64'>\n"
     ]
    }
   ],
   "source": [
    "y_predicted = model.predict([testInp1,testInp2,testInp3,testInp4,testInp5,testInp6])\n",
    "print(y_predicted.shape)\n",
    "print(type(y_test[0,0]))"
   ]
  },
  {
   "cell_type": "code",
   "execution_count": 11,
   "metadata": {},
   "outputs": [
    {
     "data": {
      "image/png": "[encoded data removed]",
      "text/plain": [
       "<Figure size 720x720 with 1 Axes>"
      ]
     },
     "metadata": {
      "needs_background": "light"
     },
     "output_type": "display_data"
    },
    {
     "data": {
      "image/png": "[encoded data removed]",
      "text/plain": [
       "<Figure size 720x720 with 1 Axes>"
      ]
     },
     "metadata": {
      "needs_background": "light"
     },
     "output_type": "display_data"
    },
    {
     "data": {
      "image/png": "[encoded data removed]",
      "text/plain": [
       "<Figure size 720x720 with 1 Axes>"
      ]
     },
     "metadata": {
      "needs_background": "light"
     },
     "output_type": "display_data"
    },
    {
     "data": {
      "image/png": "[encoded data removed]",
      "text/plain": [
       "<Figure size 720x720 with 1 Axes>"
      ]
     },
     "metadata": {
      "needs_background": "light"
     },
     "output_type": "display_data"
    }
   ],
   "source": [
    "from scipy.stats import pearsonr\n",
    "\n",
    "for par in range(4):\n",
    "    plt.figure(figsize=(10,10))\n",
    "    corr, _ = pearsonr(y_test[:,par], y_predicted[:,par])\n",
    "    plt.plot(y_test[:,par],y_predicted[:,par],'og',label='R='+str(np.round(corr,3)))\n",
    "    plt.legend(loc='upper left')\n",
    "    plt.show()"
   ]
  },
  {
   "cell_type": "code",
   "execution_count": 12,
   "metadata": {},
   "outputs": [
    {
     "name": "stdout",
     "output_type": "stream",
     "text": [
      "[0.06477521 0.26389114 0.02258166 0.20771575]\n"
     ]
    }
   ],
   "source": [
    "print(np.std(y_test - y_predicted,0))\n"
   ]
  },
  {
   "cell_type": "code",
   "execution_count": 13,
   "metadata": {},
   "outputs": [
    {
     "name": "stdout",
     "output_type": "stream",
     "text": [
      "(301,) (301,) 0.55861 0.1793 0.0 30.0\n",
      "(301,) (301,) 0.55512 0.17927 0.0 30.0\n",
      "(163,) (163,) 0.028336502958579892 0.02790683037475391 -8.1 8.099999999999943\n",
      "(163,) (163,) 0.019935102564102573 0.020378368836292318 -8.1 8.099999999999943\n",
      "(177,) (177,) 0.030209 0.029615000000000558 -8.8 8.799999999999937\n",
      "(177,) (177,) 0.025551 0.025791000000000546 -8.8 8.799999999999937\n",
      "(300,) (300,) 0.0 29.900000000000002\n",
      "(365,) (365,) -18.2 18.200000000000518\n",
      "(365,) (365,) -18.2 18.200000000000518\n",
      "(395,) (395,) -19.7 19.70000000000056\n",
      "(395,) (395,) -19.7 19.70000000000056\n"
     ]
    }
   ],
   "source": [
    "# Read measured profiles\n",
    "\n",
    "measuredDoseFiles10 = ['./Measured/Method3/PDD1_10x10.dat','./Measured/Method3/PDD2_10x10.dat',\n",
    "                       './Measured/Method3/PROF1_10x10_14mm.dat','./Measured/Method3/PROF2_10x10_14mm.dat',\n",
    "                       './Measured/Method3/PROF1_10x10_100mm.dat','./Measured/Method3/PROF2_10x10_100mm.dat']\n",
    "\n",
    "measuredDoseFiles30 = ['./Measured/Method3/PDD1_30x30.dat',\n",
    "                       './Measured/Method3/PROF1_30x30_14mm.dat','./Measured/Method3/PROF2_30x30_14mm.dat',\n",
    "                       './Measured/Method3/PROF1_30x30_100mm.dat','./Measured/Method3/PROF2_30x30_100mm.dat']\n",
    "\n",
    "\n",
    "clinicalProfiles = []\n",
    "\n",
    "xStart = [0,0,-8.1,-8.1,-8.8,-8.8]\n",
    "profiles = []\n",
    "for n, measuredDoseFile in enumerate(measuredDoseFiles10):\n",
    "    f = open(measuredDoseFile)\n",
    "    lines = f.readlines()\n",
    "    f.close()\n",
    "    x = np.asarray([l.split() for l in lines[:-1]],dtype=np.float)\n",
    "    x[:,0] = x[:,0]/10.\n",
    "    interpRange = np.arange(xStart[n],x[x.shape[0]-1,0]+config.spaceStep/2,config.spaceStep)\n",
    "    profile = interpn((x[:,0],),x[:,1] , interpRange)\n",
    "    print(profile.shape,interpRange.shape,profile[0],profile[profile.shape[0]-1],interpRange[0],interpRange[interpRange.shape[0]-1])\n",
    "    profiles.append(profile)\n",
    "\n",
    "dum =np.zeros(config.numOfSimulatedProfileSamples,dtype=np.float)\n",
    "np.copyto(dum[config.analyzedRanges[1][0][0]:config.analyzedRanges[1][0][1]],(profiles[0][3:]+profiles[1][3:])*0.5)\n",
    "scale = dum[12]\n",
    "dum = dum*100.0/scale\n",
    "clinicalProfiles.append(dum[config.analyzedRanges[1][0][0]:config.analyzedRanges[1][0][1]])                        #Field 10x10 depth profile from 0.3 to 30.0 (both included)\n",
    "\n",
    "dum =np.zeros(config.numOfSimulatedProfileSamples,dtype=np.float)\n",
    "np.copyto(dum[config.analyzedRanges[1][1][0]:config.analyzedRanges[1][1][1]],0.5*(profiles[2]+profiles[3]))\n",
    "dum = dum*100.0/scale\n",
    "clinicalProfiles.append(dum[config.analyzedRanges[1][1][0]:config.analyzedRanges[1][1][1]])                        #Field 10x10 lateral profile at depth 14mm from -8.1 to 8.1 cm, both included\n",
    "\n",
    "dum =np.zeros(config.numOfSimulatedProfileSamples,dtype=np.float)\n",
    "np.copyto(dum[config.analyzedRanges[1][2][0]:config.analyzedRanges[1][2][1]],0.5*(profiles[4]+profiles[5]))\n",
    "dum = dum*100.0/scale\n",
    "clinicalProfiles.append(dum[config.analyzedRanges[1][2][0]:config.analyzedRanges[1][2][1]])                        #Field 10x10 lateral profile at depth 100mm from -8.8 to 8.8 cm, both included\n",
    "\n",
    "\n",
    "\n",
    "xStart = [0,-18.2,-18.2,-19.7,-19.7]\n",
    "profiles = []\n",
    "for n, measuredDoseFile in enumerate(measuredDoseFiles30):\n",
    "    f = open(measuredDoseFile)\n",
    "    lines = f.readlines()\n",
    "    f.close()\n",
    "    x = np.asarray([l.split() for l in lines[:-1]],dtype=np.float)\n",
    "    x[:,0] = x[:,0]/10.\n",
    "    interpRange = np.arange(xStart[n],np.round(x[x.shape[0]-1,0],2)-config.spaceStep/2,config.spaceStep)\n",
    "    profile = interpn((x[:,0],),x[:,1] , interpRange)\n",
    "    print(profile.shape,interpRange.shape,interpRange[0],interpRange[interpRange.shape[0]-1])\n",
    "    profiles.append(profile)\n",
    "\n",
    "dum =np.zeros(config.numOfSimulatedProfileSamples,dtype=np.float)\n",
    "np.copyto(dum[config.analyzedRanges[2][0][0]:config.analyzedRanges[2][0][1]],profiles[0][3:])\n",
    "scale = dum[12]\n",
    "dum = dum*100/scale\n",
    "clinicalProfiles.append(dum[config.analyzedRanges[2][0][0]:config.analyzedRanges[2][0][1]])                        #Field 30x30 lateral profile at depth 1.4cm from -18.2 to 18.2 cm, both included\n",
    "\n",
    "    \n",
    "dum =np.zeros(config.numOfSimulatedProfileSamples,dtype=np.float)\n",
    "np.copyto(dum[config.analyzedRanges[2][1][0]:config.analyzedRanges[2][1][1]],0.5*(profiles[1]+profiles[2]))\n",
    "dum = dum*100/scale\n",
    "clinicalProfiles.append(dum[config.analyzedRanges[2][1][0]:config.analyzedRanges[2][1][1]])                        #Field 30x30 lateral profile at depth 1.4cm from -18.2 to 18.2 cm, both included\n",
    "\n",
    "dum =np.zeros(config.numOfSimulatedProfileSamples,dtype=np.float)\n",
    "np.copyto(dum[config.analyzedRanges[2][2][0]:config.analyzedRanges[2][2][1]],0.5*(profiles[3]+profiles[4]))\n",
    "dum = dum*100/scale\n",
    "clinicalProfiles.append(dum[config.analyzedRanges[2][2][0]:config.analyzedRanges[2][2][1]])                        #Field 30x30 lateral profile at depth 10cm from -19.7 to 19.7 cm, both included\n",
    "    \n",
    " "
   ]
  },
  {
   "cell_type": "code",
   "execution_count": 15,
   "metadata": {},
   "outputs": [
    {
     "name": "stdout",
     "output_type": "stream",
     "text": [
      "(1, 298, 1)\n",
      "(1, 163, 1)\n",
      "(1, 177, 1)\n",
      "(1, 297, 1)\n",
      "(1, 365, 1)\n",
      "(1, 395, 1)\n"
     ]
    }
   ],
   "source": [
    "for num,profile in enumerate(clinicalProfiles):\n",
    "    clinicalProfiles[num] = np.reshape(clinicalProfiles[num],(1,) + clinicalProfiles[num].shape + (1,))\n",
    "    print(clinicalProfiles[num].shape)"
   ]
  },
  {
   "cell_type": "code",
   "execution_count": 16,
   "metadata": {},
   "outputs": [
    {
     "name": "stdout",
     "output_type": "stream",
     "text": [
      "[5.6226954  0.46163154 0.27080187 2.4621449 ]\n"
     ]
    }
   ],
   "source": [
    "clin_pred = model.predict(clinicalProfiles)[0]\n",
    "print(clin_pred)"
   ]
  },
  {
   "cell_type": "code",
   "execution_count": null,
   "metadata": {},
   "outputs": [],
   "source": []
  }
 ],
 "metadata": {
  "kernelspec": {
   "display_name": "Python 3",
   "language": "python",
   "name": "python3"
  },
  "language_info": {
   "codemirror_mode": {
    "name": "ipython",
    "version": 3
   },
   "file_extension": ".py",
   "mimetype": "text/x-python",
   "name": "python",
   "nbconvert_exporter": "python",
   "pygments_lexer": "ipython3",
   "version": "3.6.10"
  }
 },
 "nbformat": 4,
 "nbformat_minor": 4
}
