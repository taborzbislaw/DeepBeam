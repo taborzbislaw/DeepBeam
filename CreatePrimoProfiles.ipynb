{
 "cells": [
  {
   "cell_type": "code",
   "execution_count": 1,
   "metadata": {},
   "outputs": [],
   "source": [
    "\n",
    "#prometheus - module load plgrid/tools/python/3.7\n",
    "#python3 Step0_createProfiles.py\n",
    "\n",
    "import numpy as np\n",
    "import matplotlib.pyplot as plt\n",
    "from scipy.interpolate import interpn\n",
    "import os\n",
    "\n",
    "import config\n",
    "import utils\n"
   ]
  },
  {
   "cell_type": "code",
   "execution_count": null,
   "metadata": {},
   "outputs": [],
   "source": [
    "# Training profiles - for custom coding of simulation parameters\n",
    "# The simulated dose files have masks as returned by createName function\n",
    "# This script creates depth and lateral profiles given PRIMO 3D dose files \n",
    "# The profiles are then used for regressors training\n",
    "\n",
    "def createName(t):\n",
    "    name = './DISP_' + str(t[1]) + '_ANGLE_' + str(t[3]) + '/' + 'EN_' + str(t[0]) + '_SIZE_' + str(t[2]) + '_FIELD_' + str(t[4]) + '_.dat'\n",
    "    return name\n",
    "\n",
    "dataPoints = [(e,se,s,an,f) for e in config.simulatedEnergies for se in config.simulatedEnergyDispersions for s in config.simulatedSourceSizes \n",
    "              for an in config.simulatedAngularDivergences for f in config.simulatedFileSizes]\n",
    "\n",
    "fileNames = [createName(t) for t in dataPoints]\n",
    "\n",
    "for n,file in enumerate(fileNames):\n",
    "    print(n,' of ',len(fileNames))\n",
    "    if os.path.exists(file)==False:\n",
    "        print('Non existent ',file)\n",
    "    else:\n",
    "        x,profiles = config.createProfiles(file)\n",
    "        e = file.split('/')[-1].split('_')[1]\n",
    "        s = file.split('/')[-1].split('_')[3]\n",
    "        f = file.split('/')[-1].split('_')[5]\n",
    "        se = file.split('/')[1].split('_')[1]\n",
    "        an = file.split('/')[1].split('_')[3]\n",
    "        name = '_'.join((e,se,s,an,f))\n",
    "        np.savez_compressed(name + '.npz',x,profiles)       \n"
   ]
  },
  {
   "cell_type": "code",
   "execution_count": 2,
   "metadata": {},
   "outputs": [],
   "source": [
    "# Testing profiles - for custom coding of simulation parameters\n",
    "# This code creates depth and lateral profiles from project files a1, a2, ..., e4, e5, for each project three fields were simulated\n",
    "# The ground truth is extracted from Primo project files\n",
    "\n",
    "letters = ['a','b','c','d','e']\n",
    "numbers = ['1','2','3','4','5']\n",
    "fields = ['fields30','fields10','fields']\n",
    "\n",
    "for a in letters:\n",
    "    for b in numbers:\n",
    "        for field in fields:\n",
    "            name = './' + a + b + '/' + field + '/' + field + '-dose.f0'\n",
    "            x,profiles = config.createProfiles(name)\n",
    "            name = a + b + '_' + field\n",
    "            np.savez_compressed(name + '.npz',x,profiles)\n",
    "\n",
    "# This code reads ground truth from Primo project (*.ppj) files\n",
    "for m,letter in enumerate(letters):\n",
    "    for n,number in enumerate(numbers):\n",
    "        fileName = path + letter + number + '/' + letter + number + '.ppj'\n",
    "        f = open(fileName,'r')\n",
    "        lines = [ l for l in f.readlines() if (l.startswith('BEAMeinitial') or l.startswith('BEAMefwhm') or l.startswith('BEAMradius') or l.startswith('BEAMrfwhm'))]\n",
    "        f.close()\n",
    "        energy = float(lines[1].split('=')[1])\n",
    "        ewidth = float(lines[2].split('=')[1])\n",
    "        angle = float(lines[3].split('=')[1])\n",
    "        size = float(lines[4].split('=')[1])\n",
    "        print(letter+number,energy,ewidth,size,size)\n",
    "            "
   ]
  }
 ],
 "metadata": {
  "kernelspec": {
   "display_name": "Python 3",
   "language": "python",
   "name": "python3"
  },
  "language_info": {
   "codemirror_mode": {
    "name": "ipython",
    "version": 3
   },
   "file_extension": ".py",
   "mimetype": "text/x-python",
   "name": "python",
   "nbconvert_exporter": "python",
   "pygments_lexer": "ipython3",
   "version": "3.6.10"
  }
 },
 "nbformat": 4,
 "nbformat_minor": 4
}
