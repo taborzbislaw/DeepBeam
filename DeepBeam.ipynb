{
 "cells": [
  {
   "cell_type": "code",
   "execution_count": 1,
   "metadata": {},
   "outputs": [],
   "source": [
    "import numpy as np\n",
    "import matplotlib.pyplot as plt\n",
    "from scipy.interpolate import interpn\n",
    "import os\n",
    "import glob\n",
    "import random\n",
    "\n",
    "import config\n",
    "import utils\n"
   ]
  },
  {
   "cell_type": "code",
   "execution_count": 2,
   "metadata": {},
   "outputs": [
    {
     "name": "stderr",
     "output_type": "stream",
     "text": [
      "Using TensorFlow backend.\n"
     ]
    }
   ],
   "source": [
    "from keras.models import Model\n",
    "from keras.layers import BatchNormalization, Conv2D, Conv2DTranspose, MaxPooling2D, Dropout, UpSampling2D, Input, concatenate, Activation,LeakyReLU\n",
    "from keras import backend as K\n",
    "import tensorflow as tf\n",
    "from keras.callbacks import ModelCheckpoint\n",
    "from keras.optimizers import Adam, SGD\n"
   ]
  },
  {
   "cell_type": "code",
   "execution_count": 8,
   "metadata": {},
   "outputs": [],
   "source": [
    "# Set model_filename to either name of a file to which a new trained model has to be saved or to a name of a file from which\n",
    "# trained model weights have to be loaded\n",
    "\n",
    "model_filename = 'regresja1.h5'\n"
   ]
  },
  {
   "cell_type": "code",
   "execution_count": 4,
   "metadata": {},
   "outputs": [
    {
     "name": "stdout",
     "output_type": "stream",
     "text": [
      "(3, 300, 6, 495) (300, 4)\n"
     ]
    }
   ],
   "source": [
    "# Read all simulated profiles for a regular grid of primary beam parameters, for fields 3x3, 10x10, and 30x30\n",
    "\n",
    "dataPoints = [(str(e),str(se),str(s),str(an)) for e in config.simulatedEnergies for se in config.simulatedEnergyDispersions for s in config.simulatedSourceSizes \n",
    "              for an in config.simulatedAngularDivergences]\n",
    "\n",
    "random.seed(config.SEED)\n",
    "random.shuffle(dataPoints)\n",
    "\n",
    "profiles = utils.readProfiles(config.profileDIR,dataPoints)\n",
    "\n",
    "profiles = np.asarray(profiles)\n",
    "y_train = np.asarray(dataPoints,dtype=np.float)\n",
    "\n",
    "print(profiles.shape,y_train.shape)"
   ]
  },
  {
   "cell_type": "code",
   "execution_count": 5,
   "metadata": {},
   "outputs": [
    {
     "name": "stdout",
     "output_type": "stream",
     "text": [
      "(300, 348, 1)\n",
      "(300, 141, 1)\n",
      "(300, 348, 1)\n",
      "(300, 231, 1)\n",
      "(300, 491, 1)\n"
     ]
    }
   ],
   "source": [
    "\n",
    "X_train = []\n",
    "\n",
    "for nfield,(field,Ranges) in enumerate(zip(config.analyzedProfiles,config.analyzedRanges)):\n",
    "    if field != None:\n",
    "        for profile,Range in zip(field,Ranges):\n",
    "            inp = profiles[nfield,:,profile,Range[0]:Range[1]]\n",
    "            inp = np.reshape(inp,inp.shape + (1,))\n",
    "            print(inp.shape)\n",
    "            X_train.append(inp)\n",
    "            "
   ]
  },
  {
   "cell_type": "code",
   "execution_count": 6,
   "metadata": {},
   "outputs": [
    {
     "name": "stdout",
     "output_type": "stream",
     "text": [
      "(348, 1)\n",
      "(141, 1)\n",
      "(348, 1)\n",
      "(231, 1)\n",
      "(491, 1)\n"
     ]
    }
   ],
   "source": [
    "from keras.layers import Conv1D,MaxPooling1D,Concatenate,Flatten,Dense\n",
    "\n",
    "def conv_block(inp,filters=16,kernel_size=3,strides = 1,kernel_initializer= 'glorot_uniform',padding='same',activation='relu'):\n",
    "    c = Conv1D(filters,kernel_size,kernel_initializer=kernel_initializer,padding=padding,activation=activation,strides = strides)(inp)\n",
    "    c = Conv1D(filters,kernel_size,kernel_initializer=kernel_initializer,padding=padding,activation=activation,strides = strides)(c)\n",
    "    c = MaxPooling1D(2)(c)\n",
    "    return c\n",
    "\n",
    "inputs = []\n",
    "outputs = []\n",
    "for nmod in range(len(config.allRanges)):\n",
    "    shape = (config.allRanges[nmod][1]-config.allRanges[nmod][0],1)\n",
    "    print(shape)\n",
    "    W = int(np.log(shape[0]/3)/np.log(2))\n",
    "    inp = Input(shape)\n",
    "    F = 16\n",
    "    x = inp\n",
    "    for w in range(W):\n",
    "        x = conv_block(x,filters = F)\n",
    "        F *= 2\n",
    "    out = Conv1D(1,1) (x)\n",
    "    inputs.append(inp)\n",
    "    outputs.append(out)\n",
    "\n",
    "c = Concatenate(axis=1)(outputs)\n",
    "c = Flatten()(c)\n",
    "c = Dense(100,activation='relu')(c)\n",
    "c = Dense(100,activation='relu')(c)\n",
    "out = Dense(4,activation=None)(c)\n",
    "\n",
    "model = Model(inputs = inputs,outputs=[out])\n",
    "#model.summary()"
   ]
  },
  {
   "cell_type": "code",
   "execution_count": 7,
   "metadata": {},
   "outputs": [],
   "source": [
    "\n",
    "callback_checkpoint = ModelCheckpoint(\n",
    "    model_filename, \n",
    "    verbose=1, \n",
    "    monitor='val_loss', \n",
    "    save_best_only=True\n",
    ")\n",
    "\n",
    "model.compile(\n",
    "    optimizer=Adam(lr=0.0001), \n",
    "    loss = 'mse',\n",
    "    metrics=[tf.keras.metrics.MeanAbsoluteError()]\n",
    ")\n"
   ]
  },
  {
   "cell_type": "code",
   "execution_count": null,
   "metadata": {},
   "outputs": [],
   "source": [
    "# Run only if the trained model does not yet exist exists\n",
    "\n",
    "history = model.fit(\n",
    "    X_train,y_train,\n",
    "    steps_per_epoch=100,\n",
    "    epochs=300,\n",
    "    validation_split=0.2,\n",
    "    validation_steps = 10,\n",
    "    callbacks=[callback_checkpoint]\n",
    ")\n"
   ]
  },
  {
   "cell_type": "code",
   "execution_count": 9,
   "metadata": {},
   "outputs": [],
   "source": [
    "# Run if the trained model already exists\n",
    "\n",
    "model.load_weights(model_filename)"
   ]
  },
  {
   "cell_type": "code",
   "execution_count": 10,
   "metadata": {},
   "outputs": [
    {
     "name": "stdout",
     "output_type": "stream",
     "text": [
      "(3, 25, 6, 495) (25, 4)\n"
     ]
    }
   ],
   "source": [
    "groundTruthFilename = config.testProfilesDIR + config.groundTruthFileName\n",
    "\n",
    "testGoals = open(groundTruthFilename)\n",
    "lines = testGoals.readlines()\n",
    "y_test = [l[:-1].split()[1:5] for l in lines[:-1]]\n",
    "fileNames = [l[:-1].split()[0] for l in lines[:-1]]\n",
    "testGoals.close()\n",
    "\n",
    "fields = ['fields','fields10','fields30']\n",
    "testProfiles3 = []\n",
    "testProfiles10 = []\n",
    "testProfiles30 = []\n",
    "\n",
    "for fileName in fileNames:\n",
    "    name = config.testProfilesDIR + fileName + '_' + fields[0] + '.npz'\n",
    "    file = np.load(name)\n",
    "    testProfiles3.append(file[file.files[1]])\n",
    "\n",
    "    name = config.testProfilesDIR + fileName + '_' + fields[1] + '.npz'\n",
    "    file = np.load(name)\n",
    "    testProfiles10.append(file[file.files[1]])\n",
    "\n",
    "    name = config.testProfilesDIR + fileName + '_' + fields[2] + '.npz'\n",
    "    file = np.load(name)\n",
    "    testProfiles30.append(file[file.files[1]])\n",
    "        \n",
    "\n",
    "testProfiles = []\n",
    "testProfiles.append(testProfiles3)\n",
    "testProfiles.append(testProfiles10)\n",
    "testProfiles.append(testProfiles30)\n",
    "\n",
    "testProfiles = np.asarray(testProfiles,dtype=np.float)\n",
    "y_test = np.asarray(y_test,dtype=np.float)\n",
    "\n",
    "print(testProfiles.shape,y_test.shape)"
   ]
  },
  {
   "cell_type": "code",
   "execution_count": 11,
   "metadata": {},
   "outputs": [
    {
     "name": "stdout",
     "output_type": "stream",
     "text": [
      "(25, 348, 1)\n",
      "(25, 141, 1)\n",
      "(25, 348, 1)\n",
      "(25, 231, 1)\n",
      "(25, 491, 1)\n"
     ]
    }
   ],
   "source": [
    "\n",
    "X_test = []\n",
    "\n",
    "for nfield,(field,Ranges) in enumerate(zip(config.analyzedProfiles,config.analyzedRanges)):\n",
    "    if field != None:\n",
    "        for profile,Range in zip(field,Ranges):\n",
    "            inp = testProfiles[nfield,:,profile,Range[0]:Range[1]]\n",
    "            inp = np.reshape(inp,inp.shape + (1,))\n",
    "            print(inp.shape)\n",
    "            X_test.append(inp)\n"
   ]
  },
  {
   "cell_type": "code",
   "execution_count": 12,
   "metadata": {},
   "outputs": [
    {
     "name": "stdout",
     "output_type": "stream",
     "text": [
      "(25, 4)\n"
     ]
    }
   ],
   "source": [
    "y_predicted = model.predict(X_test)\n",
    "print(y_predicted.shape)"
   ]
  },
  {
   "cell_type": "code",
   "execution_count": 13,
   "metadata": {},
   "outputs": [
    {
     "data": {
      "image/png": "[encoded data removed]",
      "text/plain": [
       "<Figure size 720x720 with 1 Axes>"
      ]
     },
     "metadata": {
      "needs_background": "light"
     },
     "output_type": "display_data"
    },
    {
     "data": {
      "image/png": "[encoded data removed]",
      "text/plain": [
       "<Figure size 720x720 with 1 Axes>"
      ]
     },
     "metadata": {
      "needs_background": "light"
     },
     "output_type": "display_data"
    },
    {
     "data": {
      "image/png": "[encoded data removed]",
      "text/plain": [
       "<Figure size 720x720 with 1 Axes>"
      ]
     },
     "metadata": {
      "needs_background": "light"
     },
     "output_type": "display_data"
    },
    {
     "data": {
      "image/png": "[encoded data removed]",
      "text/plain": [
       "<Figure size 720x720 with 1 Axes>"
      ]
     },
     "metadata": {
      "needs_background": "light"
     },
     "output_type": "display_data"
    }
   ],
   "source": [
    "from scipy.stats import pearsonr\n",
    "\n",
    "for par in range(4):\n",
    "    plt.figure(figsize=(10,10))\n",
    "    corr, _ = pearsonr(y_test[:,par], y_predicted[:,par])\n",
    "    plt.plot(y_test[:,par],y_predicted[:,par],'og',label='R='+str(np.round(corr,3)))\n",
    "    plt.legend(loc='upper left')\n",
    "    plt.show()"
   ]
  },
  {
   "cell_type": "code",
   "execution_count": null,
   "metadata": {},
   "outputs": [],
   "source": []
  }
 ],
 "metadata": {
  "kernelspec": {
   "display_name": "Python 3",
   "language": "python",
   "name": "python3"
  },
  "language_info": {
   "codemirror_mode": {
    "name": "ipython",
    "version": 3
   },
   "file_extension": ".py",
   "mimetype": "text/x-python",
   "name": "python",
   "nbconvert_exporter": "python",
   "pygments_lexer": "ipython3",
   "version": "3.6.10"
  }
 },
 "nbformat": 4,
 "nbformat_minor": 4
}
